{
 "cells": [
  {
   "cell_type": "markdown",
   "metadata": {},
   "source": [
    "# OpenAI Swarm: A Framework for Multi-Agent Orchestration "
   ]
  },
  {
   "cell_type": "code",
   "execution_count": null,
   "metadata": {},
   "outputs": [],
   "source": [
    "!pip install git+https://github.com/openai/swarm.git"
   ]
  },
  {
   "cell_type": "markdown",
   "metadata": {},
   "source": [
    "## Main Agent using Tools"
   ]
  },
  {
   "cell_type": "code",
   "execution_count": null,
   "metadata": {},
   "outputs": [],
   "source": [
    "from swarm import Agent, Swarm\n",
    "from typing import List, Callable\n",
    "\n",
    "AGENT_SYSTEM_PROMPT = \"\"\"\n",
    "# Task\n",
    "Tu nombre es Gabriela y sos un asistente de IA diseñado para ayudar al equipo de Pampa Labs. \n",
    "                      \n",
    "# Guidelines                   \n",
    "Tus respuestas deben ser:\n",
    "\n",
    "1. Amigables y accesibles, usando un tono cálido\n",
    "2. Concisas y al grano, evitando verbosidad innecesaria\n",
    "3. Útiles e informativas, proporcionando información precisa\n",
    "4. Respetuosas de la privacidad del usuario y los límites éticos\n",
    "\n",
    "Solo puedes ayudar usando las herramientas disponibles y con pedidos que vengan de miembros del equipo. Todo lo que no se pueda responder usando las herramientas, debes decir que no puedes ayudar y disculparte.\n",
    "\"\"\"\n",
    "\n",
    "# I had to convert Pydantic models to function arguments with corresponding docstrings\n",
    "# This involves extracting fields from the Pydantic models and creating function\n",
    "# parameters with appropriate type hints and descriptions in the docstring.\n",
    "def set_meal_tool(context_variables, meal: str, date: str):\n",
    "    \"\"\"\n",
    "    Sets the meal plan for a specific date.\n",
    "\n",
    "    Args:\n",
    "        meal (str): The name of the meal.\n",
    "        date (str): The date of the meal plan.\n",
    "    \"\"\"\n",
    "    return f\"Meal plan created and sent to the provider: {meal} for {date} by team member {context_variables['id']}\"\n",
    "\n",
    "def get_expenses_tool(context_variables):\n",
    "    \"\"\"\n",
    "    Retrieves all pending expenses\n",
    "    \"\"\"\n",
    "\n",
    "    # Mock implementation for testing purposes\n",
    "    mock_expenses = {\n",
    "        \"user1\": {\n",
    "            'expenses': [\n",
    "                {\n",
    "                \"expense_type\": \"food\",\n",
    "                \"date\": \"2023-05-01\",\n",
    "                \"total_value\": 50.0,\n",
    "                \"state\": \"pending\"\n",
    "            },\n",
    "            {\n",
    "                \"expense_type\": \"coffee\",\n",
    "                \"date\": \"2023-05-02\",\n",
    "                \"total_value\": 5.0,\n",
    "                \"state\": \"pending\"\n",
    "                }\n",
    "            ]\n",
    "        }\n",
    "    }\n",
    "    # Functions called by an Agent should return a type that has __str__\n",
    "    return f\"Expenses retrieved: {mock_expenses[context_variables['id']]['expenses']}\"\n",
    "\n",
    "class GabyAgent:\n",
    "    def __init__(self,\n",
    "        prompt = AGENT_SYSTEM_PROMPT,\n",
    "        model_name: str = \"gpt-4o\",\n",
    "        tools: List[Callable] = [],\n",
    "    ):\n",
    "\n",
    "        self.agent = Agent(\n",
    "            name=\"Main Agent\",\n",
    "            instructions=prompt,\n",
    "            functions=tools,\n",
    "            model=model_name\n",
    "        )\n",
    "        self.client = Swarm()\n",
    "\n",
    "    def invoke(self, id, messages, debug=False):\n",
    "        response = self.client.run(\n",
    "            agent=self.agent,\n",
    "            messages=messages,\n",
    "            debug=debug,\n",
    "            context_variables={\"id\": id}\n",
    "        )\n",
    "        return response.messages[-1][\"content\"]\n",
    "    \n",
    "    def stream(self, id, messages, debug=False):\n",
    "        stream = self.client.run(\n",
    "            agent=self.agent,\n",
    "            messages=messages,\n",
    "            debug=debug,\n",
    "            context_variables={\"id\": id},\n",
    "            stream=True\n",
    "        )\n",
    "        for chunk in stream:\n",
    "            yield chunk"
   ]
  },
  {
   "cell_type": "code",
   "execution_count": null,
   "metadata": {},
   "outputs": [],
   "source": [
    "gaby_agent = GabyAgent(tools=[set_meal_tool, get_expenses_tool])\n",
    "response_content = gaby_agent.invoke(\n",
    "    id=\"user1\",\n",
    "    messages=[\n",
    "        {\"role\": \"user\", \"content\": \"I want to set the meal plan for the date 2024-05-01. The meal is lasagna.\"},\n",
    "        {\"role\": \"user\", \"content\": \"I want to get the expenses\"}\n",
    "    ],\n",
    "    debug=False\n",
    ")\n",
    "print(response_content)"
   ]
  },
  {
   "cell_type": "markdown",
   "metadata": {},
   "source": [
    "### Streaming response"
   ]
  },
  {
   "cell_type": "code",
   "execution_count": null,
   "metadata": {},
   "outputs": [],
   "source": [
    "for chunk in gaby_agent.stream(\n",
    "    id=\"user1\",\n",
    "    messages=[\n",
    "        {\"role\": \"user\", \"content\": \"I want to set the meal plan for the date 2024-05-01. The meal is lasagna.\"},\n",
    "        {\"role\": \"user\", \"content\": \"I want to get the expenses\"}\n",
    "    ],\n",
    "    debug=True\n",
    "):\n",
    "    print(chunk)"
   ]
  },
  {
   "cell_type": "markdown",
   "metadata": {},
   "source": [
    "## Handoff Functions"
   ]
  },
  {
   "cell_type": "code",
   "execution_count": null,
   "metadata": {},
   "outputs": [],
   "source": [
    "meal_agent: Agent = Agent(\n",
    "    name=\"Meal Agent\",\n",
    "    instructions=\"\"\"\n",
    "    Eres un experto en planificar pedidos de comidas para el Equipo, tus respuesta deben ser claras, directas y en argentino.\n",
    "    \"\"\",\n",
    "    functions=[set_meal_tool],\n",
    "    model=\"gpt-4o\"\n",
    ")\n",
    "\n",
    "def transfer_to_meal_agent() -> Agent:\n",
    "    \"\"\"\n",
    "    Transfer control to the Meal Agent for handling meal-related tasks.\n",
    "    This function is used when a user request is specifically about meal planning or orders.\n",
    "    \"\"\"\n",
    "    return meal_agent\n",
    "\n",
    "expenses_agent: Agent = Agent(\n",
    "    name=\"Expenses Agent\",  \n",
    "    instructions=\"\"\"\n",
    "    Eres un experto en gestionar los gastos del Equipo. Tus respuestas deben ser en argentino.\n",
    "    \"\"\",\n",
    "    functions=[get_expenses_tool],\n",
    "    model=\"gpt-4o\"\n",
    ")\n",
    "\n",
    "def transfer_to_expenses_agent() -> Agent:\n",
    "    \"\"\"\n",
    "    Transfer control to the Expenses Agent for handling expenses-related tasks.\n",
    "    \"\"\"\n",
    "    return expenses_agent"
   ]
  },
  {
   "cell_type": "code",
   "execution_count": null,
   "metadata": {},
   "outputs": [],
   "source": [
    "gaby_agent = GabyAgent(tools=[transfer_to_meal_agent, transfer_to_expenses_agent])\n",
    "response_content = gaby_agent.invoke(\n",
    "    id=\"user1\",\n",
    "    messages=[\n",
    "        {\"role\": \"user\", \"content\": \"I want to set the meal plan for the date 2024-05-01. The meal is lasagna.\"},\n",
    "    ],\n",
    "    debug=True\n",
    ")\n",
    "print(response_content)\n",
    "\n",
    "response_content = gaby_agent.invoke(\n",
    "    id=\"user1\",\n",
    "    messages=[\n",
    "        {\"role\": \"user\", \"content\": \"I want to get the expenses\"}\n",
    "    ],\n",
    "    debug=True\n",
    ")\n",
    "print(response_content)"
   ]
  }
 ],
 "metadata": {
  "kernelspec": {
   "display_name": "myenv",
   "language": "python",
   "name": "python3"
  },
  "language_info": {
   "codemirror_mode": {
    "name": "ipython",
    "version": 3
   },
   "file_extension": ".py",
   "mimetype": "text/x-python",
   "name": "python",
   "nbconvert_exporter": "python",
   "pygments_lexer": "ipython3",
   "version": "3.11.9"
  }
 },
 "nbformat": 4,
 "nbformat_minor": 2
}
